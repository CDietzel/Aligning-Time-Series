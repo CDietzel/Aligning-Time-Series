{
 "cells": [
  {
   "cell_type": "code",
   "execution_count": 1,
   "metadata": {},
   "outputs": [],
   "source": [
    "import numpy as np\n",
    "import matplotlib.pyplot as plt\n",
    "import torch\n",
    "from Code_clean.GDTW import gromov_dtw as gromov_dtw_new\n",
    "import torch.nn as nn\n",
    "from torch.utils.data import DataLoader\n",
    "\n"
   ]
  },
  {
   "cell_type": "markdown",
   "metadata": {},
   "source": [
    "# Defining the Expert Policy $y_{exp}$"
   ]
  },
  {
   "cell_type": "code",
   "execution_count": 2,
   "metadata": {},
   "outputs": [],
   "source": [
    "import numpy as np\n",
    "import matplotlib.pyplot as plt\n",
    "\n",
    "def twospirals(linspace,n_points, noise=.01):\n",
    "    \"\"\"\n",
    "     Returns the two spirals dataset.\n",
    "    \"\"\"\n",
    "    n = np.sqrt(linspace.reshape(-1,1)) * 780 * (2*np.pi)/360\n",
    "    d1x = -np.cos(n)*n + np.random.rand(n_points,1) * noise\n",
    "    d1y = np.sin(n)*n + np.random.rand(n_points,1) * noise\n",
    "    return np.hstack((d1x,d1y))+1\n",
    "    \n",
    "\n",
    "y_exp=twospirals((torch.exp(torch.linspace(0,1.42,35))-1)/3.13,35,0)/20\n",
    "y_exp=torch.tensor(y_exp)\n"
   ]
  },
  {
   "cell_type": "code",
   "execution_count": 3,
   "metadata": {},
   "outputs": [
    {
     "data": {
      "text/plain": [
       "<matplotlib.collections.PathCollection at 0x12ca102e8>"
      ]
     },
     "execution_count": 3,
     "metadata": {},
     "output_type": "execute_result"
    },
    {
     "data": {
      "image/png": "[encoded data removed]",
      "text/plain": [
       "<Figure size 432x288 with 1 Axes>"
      ]
     },
     "metadata": {
      "needs_background": "light"
     },
     "output_type": "display_data"
    }
   ],
   "source": [
    "plt.scatter(y_exp[:,0],y_exp[:,1], c = np.arange(len(y_exp)))"
   ]
  },
  {
   "cell_type": "markdown",
   "metadata": {},
   "source": [
    "# Defining the Actor's artitecture $\\pi_{\\theta}$"
   ]
  },
  {
   "cell_type": "code",
   "execution_count": 4,
   "metadata": {},
   "outputs": [],
   "source": [
    "\n",
    "class MLP(nn.Module):\n",
    "\n",
    "        def __init__(self,state_dim=2,hidden_dim=128,action_dim=2):\n",
    "            super(MLP, self).__init__()\n",
    "\n",
    "            main = nn.Sequential(\n",
    "                nn.Linear(state_dim, hidden_dim),\n",
    "                nn.ReLU(True),\n",
    "                nn.Linear(hidden_dim, hidden_dim),\n",
    "                nn.ReLU(True),\n",
    "                nn.Linear(hidden_dim, action_dim),\n",
    "            )\n",
    "            self.main = main\n",
    "\n",
    "        def forward(self, state):\n",
    "\n",
    "            output = self.main(state)\n",
    "            return output"
   ]
  },
  {
   "cell_type": "markdown",
   "metadata": {},
   "source": [
    "# Performing rollouts $x_\\theta \\in \\mathcal{X}^T$ under the current policy $\\pi_\\theta$ starting at $ x_0$"
   ]
  },
  {
   "cell_type": "markdown",
   "metadata": {},
   "source": [
    "Agent rollouts under the current policy $\\pi_\\theta$ and transition dynamics $\\mathcal{T}$, and starting at $x_\\theta^{(0)}$ are generated in the following way:\n",
    "\n",
    "$$\\forall t=1,...,T: a_t = \\pi_{\\theta}(x_\\theta^{(t)}), \\quad x_\\theta^{(t+1)}= \\mathcal{T}(x_\\theta^{(t)},a_t)$$\n",
    "\n",
    "\n"
   ]
  },
  {
   "cell_type": "code",
   "execution_count": 5,
   "metadata": {},
   "outputs": [],
   "source": [
    "def rollout(x0,actor,episode_len):\n",
    "    state=x0\n",
    "    states=state\n",
    "    \n",
    "    for step in range(episode_len):\n",
    "        action = actor(state)\n",
    "        new_state=action+state\n",
    "        states = torch.cat((states,new_state),0) \n",
    "        state=new_state\n",
    "        \n",
    "        \n",
    "    return(states)"
   ]
  },
  {
   "cell_type": "markdown",
   "metadata": {},
   "source": [
    "# Experimental setup"
   ]
  },
  {
   "cell_type": "code",
   "execution_count": 6,
   "metadata": {},
   "outputs": [],
   "source": [
    "num_epochs=6000\n",
    "\n",
    "#Length of rollouts T\n",
    "episode_len=37\n",
    "\n",
    "#Defining the policy $|pi_\\theta$'s architecture and optimizer\n",
    "actor=MLP(state_dim=2,hidden_dim=64,action_dim=2)\n",
    "optimizer = torch.optim.Adam(actor.parameters(), lr=5e-5, betas=(0.5, 0.99))\n",
    "\n",
    "#Defining the distance GDTW\n",
    "GDTW = gromov_dtw_new(max_iter=10,gamma=0.1,loss_only=1,dtw_approach='soft_GDTW',verbose=0)\n",
    "\n",
    "#Defining the agent's initial location (the same as the expert's initial location here)\n",
    "x0=y_exp[0].reshape(1,-1).float()"
   ]
  },
  {
   "cell_type": "markdown",
   "metadata": {},
   "source": [
    "# Training the model"
   ]
  },
  {
   "cell_type": "markdown",
   "metadata": {},
   "source": [
    "Here, we train the model by minimizing the GDTW between the expert trajectory $y_{exp}$ and the agent's rollout $x_\\theta$ w.r.t the agent policy $\\pi_\\theta$'s parameters, namely:\n",
    "\n",
    "$$\\min_{\\theta}\\text{GDTW}(y_{exp},x_\\theta)$$"
   ]
  },
  {
   "cell_type": "code",
   "execution_count": 19,
   "metadata": {},
   "outputs": [
    {
     "name": "stdout",
     "output_type": "stream",
     "text": [
      "GDTW to ground truth 900122.1875\n",
      "GDTW to ground truth 170.34561157226562\n",
      "GDTW to ground truth 169.53904724121094\n",
      "GDTW to ground truth 169.33023071289062\n",
      "GDTW to ground truth 168.76681518554688\n",
      "GDTW to ground truth 167.56576538085938\n",
      "GDTW to ground truth 164.7627716064453\n",
      "GDTW to ground truth 157.13807678222656\n",
      "GDTW to ground truth 137.7597198486328\n",
      "GDTW to ground truth 111.87588500976562\n",
      "GDTW to ground truth 44.121768951416016\n",
      "GDTW to ground truth 31.367643356323242\n",
      "GDTW to ground truth 9.151786804199219\n",
      "GDTW to ground truth 7.792810440063477\n",
      "GDTW to ground truth 6.732272624969482\n",
      "GDTW to ground truth 5.586580276489258\n",
      "GDTW to ground truth 5.067825794219971\n",
      "GDTW to ground truth 4.704128265380859\n",
      "GDTW to ground truth 4.462220668792725\n",
      "GDTW to ground truth 4.176453113555908\n",
      "GDTW to ground truth 4.010392189025879\n",
      "GDTW to ground truth 3.776895523071289\n",
      "GDTW to ground truth 3.623943567276001\n",
      "GDTW to ground truth 3.534914493560791\n",
      "GDTW to ground truth 3.42708420753479\n",
      "GDTW to ground truth 3.3590030670166016\n",
      "GDTW to ground truth 3.292771100997925\n",
      "GDTW to ground truth 3.235870838165283\n",
      "GDTW to ground truth 3.2292227745056152\n",
      "GDTW to ground truth 3.168118476867676\n",
      "GDTW to ground truth 3.124241590499878\n",
      "GDTW to ground truth 3.1543827056884766\n",
      "GDTW to ground truth 3.2977824211120605\n",
      "GDTW to ground truth 3.0452919006347656\n",
      "GDTW to ground truth 3.0224649906158447\n",
      "GDTW to ground truth 3.022670030593872\n",
      "GDTW to ground truth 2.9383771419525146\n",
      "GDTW to ground truth 2.905231237411499\n",
      "GDTW to ground truth 2.879098415374756\n",
      "GDTW to ground truth 3.063302755355835\n",
      "GDTW to ground truth 2.855900526046753\n",
      "GDTW to ground truth 3.1374447345733643\n",
      "GDTW to ground truth 2.81217622756958\n",
      "GDTW to ground truth 2.8017239570617676\n",
      "GDTW to ground truth 3.422116994857788\n",
      "GDTW to ground truth 2.787017822265625\n",
      "GDTW to ground truth 2.775906801223755\n",
      "GDTW to ground truth 2.7644588947296143\n",
      "GDTW to ground truth 2.7600417137145996\n",
      "GDTW to ground truth 2.762408494949341\n",
      "GDTW to ground truth 2.7513487339019775\n",
      "GDTW to ground truth 2.750014066696167\n",
      "GDTW to ground truth 2.75067138671875\n",
      "GDTW to ground truth 2.735521078109741\n",
      "GDTW to ground truth 2.7621731758117676\n",
      "GDTW to ground truth 2.7294321060180664\n",
      "GDTW to ground truth 2.7173259258270264\n",
      "GDTW to ground truth 2.7182796001434326\n",
      "GDTW to ground truth 2.698180913925171\n",
      "GDTW to ground truth 2.728553056716919\n"
     ]
    }
   ],
   "source": [
    "\n",
    "episode_rewards = []\n",
    "\n",
    "for epoch in range(num_epochs):\n",
    "    optimizer.zero_grad()\n",
    "    new_episode = rollout(x0,actor,episode_len)\n",
    "\n",
    "\n",
    "    loss = GDTW(new_episode,y_exp)\n",
    "\n",
    "    loss.backward()\n",
    "    optimizer.step()\n",
    "\n",
    "\n",
    "    episode_rewards.append(loss.item())\n",
    "    \n",
    "    if epoch%500==0:\n",
    "\n",
    "        print('GDTW to ground truth',loss.item())\n"
   ]
  },
  {
   "cell_type": "markdown",
   "metadata": {},
   "source": [
    "# Plotting a rollout $x_\\theta$ under the learned policy $\\pi_\\theta$ and comparing to the expert's $\\quad \\quad \\quad \\quad \\quad \\quad \\quad \\quad \\quad \\quad$ rollout $y_{exp}$"
   ]
  },
  {
   "cell_type": "markdown",
   "metadata": {},
   "source": [
    "We note that the learned policy has to be equivalent up to isometry (translations/rotations/reflections). We therefore observe in the following plot that the expert trajectory is recovered but up to some rotation of the ground space."
   ]
  },
  {
   "cell_type": "code",
   "execution_count": 17,
   "metadata": {},
   "outputs": [
    {
     "data": {
      "text/plain": [
       "Text(0.5, 1.0, 'Rollout under expert policy')"
      ]
     },
     "execution_count": 17,
     "metadata": {},
     "output_type": "execute_result"
    },
    {
     "data": {
      "image/png": "[encoded data removed]",
      "text/plain": [
       "<Figure size 720x288 with 2 Axes>"
      ]
     },
     "metadata": {
      "needs_background": "light"
     },
     "output_type": "display_data"
    }
   ],
   "source": [
    "fig,ax=plt.subplots(1,2,figsize=[10,4])\n",
    "\n",
    "roll=rollout(x0,actor,episode_len)\n",
    "\n",
    "ax[0].scatter(roll.detach()[:,0],roll.detach()[:,1],c=np.arange(len(roll)),s=4)\n",
    "ax[0].set_title('Rollout under learned policy')\n",
    "\n",
    "ax[1].scatter(y_exp[:,0],y_exp[:,1],c=np.arange(len(y_exp)),s=4)\n",
    "ax[1].set_title('Rollout under expert policy')"
   ]
  }
 ],
 "metadata": {
  "kernelspec": {
   "display_name": "Python 3",
   "language": "python",
   "name": "python3"
  },
  "language_info": {
   "codemirror_mode": {
    "name": "ipython",
    "version": 3
   },
   "file_extension": ".py",
   "mimetype": "text/x-python",
   "name": "python",
   "nbconvert_exporter": "python",
   "pygments_lexer": "ipython3",
   "version": "3.7.1"
  }
 },
 "nbformat": 4,
 "nbformat_minor": 4
}
