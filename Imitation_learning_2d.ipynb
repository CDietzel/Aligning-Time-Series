{
 "cells": [
  {
   "cell_type": "code",
   "execution_count": 1,
   "metadata": {},
   "outputs": [],
   "source": [
    "import numpy as np\n",
    "import matplotlib.pyplot as plt\n",
    "import torch\n",
    "from Code_clean.GDTW import gromov_dtw as gromov_dtw_new\n",
    "import torch.nn as nn\n",
    "from torch.utils.data import DataLoader\n",
    "import pickle\n",
    "from imageio import imread\n",
    "import sklearn"
   ]
  },
  {
   "cell_type": "markdown",
   "metadata": {},
   "source": [
    "# Defining the Expert Policy $y_{exp}$"
   ]
  },
  {
   "cell_type": "code",
   "execution_count": 2,
   "metadata": {},
   "outputs": [],
   "source": [
    "import numpy as np\n",
    "import matplotlib.pyplot as plt\n",
    "\n",
    "def twospirals(linspace,n_points, noise=.01):\n",
    "    \"\"\"\n",
    "     Returns the two spirals dataset.\n",
    "    \"\"\"\n",
    "    n = np.sqrt(linspace.reshape(-1,1)) * 780 * (2*np.pi)/360\n",
    "    d1x = -np.cos(n)*n + np.random.rand(n_points,1) * noise\n",
    "    d1y = np.sin(n)*n + np.random.rand(n_points,1) * noise\n",
    "    return np.hstack((d1x,d1y))+1\n",
    "    \n",
    "\n",
    "y_exp=twospirals((torch.exp(torch.linspace(0,1.42,35))-1)/3.13,35,0)/20\n",
    "y_exp=torch.tensor(y_exp)\n"
   ]
  },
  {
   "cell_type": "code",
   "execution_count": 3,
   "metadata": {},
   "outputs": [
    {
     "data": {
      "text/plain": [
       "<matplotlib.collections.PathCollection at 0x12e0aba90>"
      ]
     },
     "execution_count": 3,
     "metadata": {},
     "output_type": "execute_result"
    },
    {
     "data": {
      "image/png": "[encoded data removed]",
      "text/plain": [
       "<Figure size 432x288 with 1 Axes>"
      ]
     },
     "metadata": {
      "needs_background": "light"
     },
     "output_type": "display_data"
    }
   ],
   "source": [
    "plt.scatter(y_exp[:,0],y_exp[:,1], c = np.arange(len(y_exp)))"
   ]
  },
  {
   "cell_type": "markdown",
   "metadata": {},
   "source": [
    "# Defining the Actor's artitecture $\\pi_{\\theta}$"
   ]
  },
  {
   "cell_type": "code",
   "execution_count": 4,
   "metadata": {},
   "outputs": [],
   "source": [
    "\n",
    "class MLP(nn.Module):\n",
    "\n",
    "        def __init__(self,state_dim=2,hidden_dim=128,action_dim=2):\n",
    "            super(MLP, self).__init__()\n",
    "\n",
    "            main = nn.Sequential(\n",
    "                nn.Linear(state_dim, hidden_dim),\n",
    "                nn.ReLU(True),\n",
    "                nn.Linear(hidden_dim, hidden_dim),\n",
    "                nn.ReLU(True),\n",
    "                nn.Linear(hidden_dim, action_dim),\n",
    "            )\n",
    "            self.main = main\n",
    "\n",
    "        def forward(self, state):\n",
    "\n",
    "            output = self.main(state)\n",
    "            return output"
   ]
  },
  {
   "cell_type": "markdown",
   "metadata": {},
   "source": [
    "# Performing rollouts $x_\\theta \\in \\mathcal{X}^T$ under the current policy $\\pi_\\theta$ starting at $ x_0$"
   ]
  },
  {
   "cell_type": "markdown",
   "metadata": {},
   "source": [
    "Agent rollouts under the current policy $\\pi_\\theta$ and transition dynamics $\\mathcal{T}$, and starting at $x_\\theta^{(0)}$ are generated in the following way:\n",
    "\n",
    "$$\\forall t=1,...,T: a_t = \\pi_{\\theta}(x_\\theta^{(t)}), \\quad x_\\theta^{(t+1)}= \\mathcal{T}(x_\\theta^{(t)},a_t)$$\n",
    "\n",
    "\n"
   ]
  },
  {
   "cell_type": "code",
   "execution_count": 5,
   "metadata": {},
   "outputs": [],
   "source": [
    "def rollout(x0,actor,episode_len):\n",
    "    state=x0\n",
    "    states=state\n",
    "    \n",
    "    for step in range(episode_len):\n",
    "        action = actor(state)\n",
    "        new_state=action+state\n",
    "        states = torch.cat((states,new_state),0) \n",
    "        state=new_state\n",
    "        \n",
    "        \n",
    "    return(states)"
   ]
  },
  {
   "cell_type": "markdown",
   "metadata": {},
   "source": [
    "# Experimental setup"
   ]
  },
  {
   "cell_type": "code",
   "execution_count": 6,
   "metadata": {},
   "outputs": [],
   "source": [
    "num_epochs=6000\n",
    "\n",
    "#Length of rollouts T\n",
    "episode_len=37\n",
    "\n",
    "#Defining the policy $|pi_\\theta$'s architecture and optimizer\n",
    "actor=MLP(state_dim=2,hidden_dim=64,action_dim=2)\n",
    "optimizer = torch.optim.Adam(actor.parameters(), lr=5e-5, betas=(0.5, 0.99))\n",
    "\n",
    "#Defining the distance GDTW\n",
    "GDTW = gromov_dtw_new(max_iter=10,gamma=0.1,loss_only=1,dtw_approach='soft_GDTW',verbose=0)\n",
    "\n",
    "#Defining the agent's initial location (the same as the expert's initial location here)\n",
    "x0=y_exp[0].reshape(1,-1).float()"
   ]
  },
  {
   "cell_type": "markdown",
   "metadata": {},
   "source": [
    "# Training the model"
   ]
  },
  {
   "cell_type": "markdown",
   "metadata": {},
   "source": [
    "Here, we train the model by minimizing the GDTW between the expert trajectory $y_{exp}$ and the agent's rollout $x_\\theta$ w.r.t the agent policy $\\pi_\\theta$'s parameters, namely:\n",
    "\n",
    "$$\\min_{\\theta}\\text{GDTW}(y_{exp},x_\\theta)$$"
   ]
  },
  {
   "cell_type": "code",
   "execution_count": 7,
   "metadata": {},
   "outputs": [
    {
     "name": "stdout",
     "output_type": "stream",
     "text": [
      "GDTW to ground truth 19373166592.0\n",
      "GDTW to ground truth 2350786.5\n",
      "GDTW to ground truth 41527.90234375\n",
      "GDTW to ground truth 984.389404296875\n",
      "GDTW to ground truth 185.9224853515625\n",
      "GDTW to ground truth 180.93667602539062\n",
      "GDTW to ground truth 179.75770568847656\n",
      "GDTW to ground truth 156.5931396484375\n",
      "GDTW to ground truth 108.69527435302734\n",
      "GDTW to ground truth 41.61251449584961\n",
      "GDTW to ground truth 6.812796592712402\n",
      "GDTW to ground truth 5.390969753265381\n"
     ]
    }
   ],
   "source": [
    "\n",
    "episode_rewards = []\n",
    "\n",
    "for epoch in range(num_epochs):\n",
    "    optimizer.zero_grad()\n",
    "    new_episode = rollout(x0,actor,episode_len)\n",
    "\n",
    "\n",
    "    loss = GDTW(new_episode,y_exp)\n",
    "\n",
    "    loss.backward()\n",
    "    optimizer.step()\n",
    "\n",
    "\n",
    "    episode_rewards.append(loss.item())\n",
    "    \n",
    "    if epoch%500==0:\n",
    "\n",
    "        print('GDTW to ground truth',loss.item())\n"
   ]
  },
  {
   "cell_type": "markdown",
   "metadata": {},
   "source": [
    "# Plotting a rollout $x_\\theta$ under the learned policy $\\pi_\\theta$ and comparing to the expert's $\\quad \\quad \\quad \\quad \\quad \\quad \\quad \\quad \\quad \\quad$ rollout $y_{exp}$"
   ]
  },
  {
   "cell_type": "markdown",
   "metadata": {},
   "source": [
    "We note that the learned policy has to be equivalent up to isometry (translations/rotations/reflections). We therefore observe in the following plot that the expert trajectory is recovered but up to some rotation of the ground space."
   ]
  },
  {
   "cell_type": "code",
   "execution_count": 8,
   "metadata": {},
   "outputs": [
    {
     "data": {
      "text/plain": [
       "Text(0.5, 1.0, 'Rollout under expert policy')"
      ]
     },
     "execution_count": 8,
     "metadata": {},
     "output_type": "execute_result"
    },
    {
     "data": {
      "image/png": "[encoded data removed]",
      "text/plain": [
       "<Figure size 720x288 with 2 Axes>"
      ]
     },
     "metadata": {
      "needs_background": "light"
     },
     "output_type": "display_data"
    }
   ],
   "source": [
    "fig,ax=plt.subplots(1,2,figsize=[10,4])\n",
    "\n",
    "roll=rollout(x0,actor,episode_len)\n",
    "\n",
    "ax[0].scatter(roll.detach()[:,0],roll.detach()[:,1],c=np.arange(len(roll)),s=4)\n",
    "ax[0].set_title('Rollout under learned policy')\n",
    "\n",
    "ax[1].scatter(y_exp[:,0],y_exp[:,1],c=np.arange(len(y_exp)),s=4)\n",
    "ax[1].set_title('Rollout under expert policy')"
   ]
  },
  {
   "cell_type": "code",
   "execution_count": null,
   "metadata": {},
   "outputs": [],
   "source": []
  },
  {
   "cell_type": "code",
   "execution_count": null,
   "metadata": {},
   "outputs": [],
   "source": []
  }
 ],
 "metadata": {
  "kernelspec": {
   "display_name": "Python 3",
   "language": "python",
   "name": "python3"
  },
  "language_info": {
   "codemirror_mode": {
    "name": "ipython",
    "version": 3
   },
   "file_extension": ".py",
   "mimetype": "text/x-python",
   "name": "python",
   "nbconvert_exporter": "python",
   "pygments_lexer": "ipython3",
   "version": "3.7.1"
  }
 },
 "nbformat": 4,
 "nbformat_minor": 4
}
